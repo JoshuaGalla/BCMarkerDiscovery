{
 "cells": [
  {
   "cell_type": "code",
   "execution_count": 2,
   "id": "97cd7650-7a4a-402d-b450-4d2d84e6c1a1",
   "metadata": {
    "tags": []
   },
   "outputs": [],
   "source": [
    "import pandas as pd\n",
    "import scanpy as sc"
   ]
  },
  {
   "cell_type": "code",
   "execution_count": 4,
   "id": "a7adfddf-a288-4dae-ad79-6c22d65838c6",
   "metadata": {
    "tags": []
   },
   "outputs": [],
   "source": [
    "#load gene names file\n",
    "df_genes = pd.read_csv('../data/genes.tsv', sep='\\t', header=None, names=['GeneName'])\n",
    "\n",
    "#create gene ID column\n",
    "df_genes['GeneID'] = ['Gene_' + str(i) for i in range(len(df_genes))]\n",
    "\n",
    "#order columns to match scanpy format\n",
    "df_genes = df_genes[['GeneID', 'GeneName']]\n",
    "\n",
    "#save to genes.tsv\n",
    "df_genes.to_csv('../data/genes.tsv', sep='\\t', index=False, header=False)"
   ]
  },
  {
   "cell_type": "code",
   "execution_count": 6,
   "id": "b64a54ad-d264-47bd-ab84-ea3f5ddb87ee",
   "metadata": {
    "tags": []
   },
   "outputs": [
    {
     "name": "stdout",
     "output_type": "stream",
     "text": [
      "        0              1\n",
      "0  Gene_0   RP11-34P13.7\n",
      "1  Gene_1     FO538757.3\n",
      "2  Gene_2     FO538757.2\n",
      "3  Gene_3     AP006222.2\n",
      "4  Gene_4  RP4-669L17.10\n"
     ]
    }
   ],
   "source": [
    "#load tsv file into DataFrame\n",
    "df = pd.read_csv('../data/genes.tsv', sep='\\t', header = None)\n",
    "print(df.head())"
   ]
  },
  {
   "cell_type": "code",
   "execution_count": 8,
   "id": "434cbdd3-9d17-4da2-abcb-1fd942049929",
   "metadata": {
    "tags": []
   },
   "outputs": [
    {
     "name": "stdout",
     "output_type": "stream",
     "text": [
      "AnnData object with n_obs × n_vars = 100064 × 29733\n",
      "    var: 'gene_ids'\n"
     ]
    }
   ],
   "source": [
    "#set file path\n",
    "data_path = '../data/'\n",
    "\n",
    "#read in data\n",
    "adata = sc.read_10x_mtx(data_path, var_names='gene_symbols', cache=True)\n",
    "print(adata)"
   ]
  }
 ],
 "metadata": {
  "kernelspec": {
   "display_name": "Python 3 (ipykernel)",
   "language": "python",
   "name": "python3"
  },
  "language_info": {
   "codemirror_mode": {
    "name": "ipython",
    "version": 3
   },
   "file_extension": ".py",
   "mimetype": "text/x-python",
   "name": "python",
   "nbconvert_exporter": "python",
   "pygments_lexer": "ipython3",
   "version": "3.11.9"
  }
 },
 "nbformat": 4,
 "nbformat_minor": 5
}
