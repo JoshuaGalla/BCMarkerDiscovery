{
 "cells": [
  {
   "cell_type": "code",
   "execution_count": 76,
   "id": "97cd7650-7a4a-402d-b450-4d2d84e6c1a1",
   "metadata": {
    "tags": []
   },
   "outputs": [],
   "source": [
    "import pandas as pd\n",
    "import scanpy as sc\n",
    "import matplotlib.pyplot as plt"
   ]
  },
  {
   "cell_type": "markdown",
   "id": "58ead1c6-cc18-458d-98ab-2a5928152f74",
   "metadata": {},
   "source": [
    "__Set Parameters for Loading Data + Analysis:__"
   ]
  },
  {
   "cell_type": "code",
   "execution_count": 55,
   "id": "0d1e2cd1-c017-4c5d-921b-0e5ab35b278c",
   "metadata": {
    "tags": []
   },
   "outputs": [],
   "source": [
    "#set file path of data folder\n",
    "data_path = '../data/'\n",
    "\n",
    "#set BC subtype to analyze\n",
    "subtype = \"HER2+\" #options are \"HER2+\", \"ER+\", or \"TNBC\"\n",
    "\n",
    "#set QC thresholds\n",
    "nfeature_min = 200\n",
    "nfeature_max = 2500\n",
    "ncount_min = 500\n",
    "percent_mt_max = 10"
   ]
  },
  {
   "cell_type": "markdown",
   "id": "bac82d71-47f2-4f52-b0c7-7c55cfb48ec8",
   "metadata": {},
   "source": [
    "__Edit Data Into Correct Formatting__:\n",
    "    \n",
    "Data files need to be edited into a readable format before analysis can begin"
   ]
  },
  {
   "cell_type": "markdown",
   "id": "02b95b5f-0ed4-41bf-829a-f23816c2b2e7",
   "metadata": {},
   "source": [
    "1) genes.tsv"
   ]
  },
  {
   "cell_type": "code",
   "execution_count": 3,
   "id": "a7adfddf-a288-4dae-ad79-6c22d65838c6",
   "metadata": {
    "tags": []
   },
   "outputs": [],
   "source": [
    "#load gene names file\n",
    "df_genes = pd.read_csv('../data/genes.tsv', sep='\\t', header=None, names=['GeneName'])\n",
    "\n",
    "#create gene ID column\n",
    "df_genes['GeneID'] = ['Gene_' + str(i) for i in range(len(df_genes))]\n",
    "\n",
    "#order columns to match scanpy format\n",
    "df_genes = df_genes[['GeneID', 'GeneName']]\n",
    "\n",
    "#save to genes.tsv\n",
    "df_genes.to_csv('../data/genes.tsv', sep='\\t', index=False, header=False)\n",
    "\n",
    "#load tsv file into DataFrame\n",
    "df = pd.read_csv('../data/genes.tsv', sep='\\t', header = None)\n",
    "#print(df.head())"
   ]
  },
  {
   "cell_type": "code",
   "execution_count": 7,
   "id": "434cbdd3-9d17-4da2-abcb-1fd942049929",
   "metadata": {
    "tags": []
   },
   "outputs": [
    {
     "name": "stdout",
     "output_type": "stream",
     "text": [
      "AnnData object with n_obs × n_vars = 100064 × 29733\n",
      "    var: 'gene_ids'\n"
     ]
    }
   ],
   "source": [
    "#read in data\n",
    "adata = sc.read_10x_mtx(data_path, var_names='gene_symbols', cache=True)\n",
    "#print(adata)"
   ]
  },
  {
   "cell_type": "markdown",
   "id": "e9dd26e9-0467-4270-be76-01f5cf355c97",
   "metadata": {},
   "source": [
    "2) metadata.csv"
   ]
  },
  {
   "cell_type": "code",
   "execution_count": 20,
   "id": "753d7d16-faff-4e73-a029-00062a51f0f5",
   "metadata": {
    "tags": []
   },
   "outputs": [],
   "source": [
    "#load in metadata\n",
    "metadata = pd.read_csv(data_path + 'metadata.csv')"
   ]
  },
  {
   "cell_type": "code",
   "execution_count": 22,
   "id": "b4f216bc-f0fb-4c87-8e02-f7b2b8d3089e",
   "metadata": {
    "tags": []
   },
   "outputs": [],
   "source": [
    "#create cell_id header for unique cell identifiers\n",
    "new_headers = ['cell_id'] + list(metadata.columns[1:])"
   ]
  },
  {
   "cell_type": "code",
   "execution_count": 24,
   "id": "fdcffaa1-260a-4f1a-874b-59135f1a1434",
   "metadata": {
    "tags": []
   },
   "outputs": [],
   "source": [
    "#assign cell_id header to cells\n",
    "metadata.columns = new_headers\n",
    "#print(metadata.head())"
   ]
  },
  {
   "cell_type": "code",
   "execution_count": 34,
   "id": "f46d66ac-6451-44c5-bc53-9f759a8f775e",
   "metadata": {
    "tags": []
   },
   "outputs": [],
   "source": [
    "#save metadata w/header\n",
    "metadata.to_csv(data_path + 'metadata.csv', index=False)"
   ]
  },
  {
   "cell_type": "code",
   "execution_count": 40,
   "id": "9c8649e5-c5fe-4ee0-a447-65016715d5b9",
   "metadata": {
    "tags": []
   },
   "outputs": [],
   "source": [
    "#merge data + metadata by cell_id\n",
    "adata.obs = adata.obs.join(metadata.set_index('cell_id'))\n",
    "#print(adata.obs.head())"
   ]
  },
  {
   "cell_type": "markdown",
   "id": "6fc93e40-84c8-4aa9-9f2b-5e3a38c2e16f",
   "metadata": {},
   "source": [
    "__Set AnnData Object for Downstream Analysis:__"
   ]
  },
  {
   "cell_type": "code",
   "execution_count": 44,
   "id": "2358e3bb-aa5e-45fe-b2c6-1e777c08f497",
   "metadata": {
    "tags": []
   },
   "outputs": [],
   "source": [
    "#set copy of raw data\n",
    "adata.raw = adata"
   ]
  },
  {
   "cell_type": "markdown",
   "id": "dba4291b-0abf-4545-966f-775911060559",
   "metadata": {},
   "source": [
    "__QC and Subsetting:__"
   ]
  },
  {
   "cell_type": "code",
   "execution_count": 59,
   "id": "63536bfd-a091-449c-b8b3-0638e30236c7",
   "metadata": {
    "tags": []
   },
   "outputs": [
    {
     "name": "stdout",
     "output_type": "stream",
     "text": [
      "                         orig.ident  nCount_RNA  nFeature_RNA  percent.mito  \\\n",
      "CID3586_AAGACCTCAGCATGAG    CID3586        4581          1689      1.506221   \n",
      "CID3586_AAGGTTCGTAGTACCT    CID3586        1726           779      5.793743   \n",
      "CID3586_ACCAGTAGTTGTGGCC    CID3586        1229           514      1.383238   \n",
      "CID3586_ACCCACTAGATGTCGG    CID3586        1352           609      1.923077   \n",
      "CID3586_ACTGATGGTCAACTGT    CID3586        1711           807     13.325541   \n",
      "\n",
      "                         subtype    celltype_subset     celltype_minor  \\\n",
      "CID3586_AAGACCTCAGCATGAG   HER2+  Endothelial ACKR1  Endothelial ACKR1   \n",
      "CID3586_AAGGTTCGTAGTACCT   HER2+  Endothelial ACKR1  Endothelial ACKR1   \n",
      "CID3586_ACCAGTAGTTGTGGCC   HER2+  Endothelial ACKR1  Endothelial ACKR1   \n",
      "CID3586_ACCCACTAGATGTCGG   HER2+  Endothelial ACKR1  Endothelial ACKR1   \n",
      "CID3586_ACTGATGGTCAACTGT   HER2+  Endothelial ACKR1  Endothelial ACKR1   \n",
      "\n",
      "                         celltype_major  percent_mt  \n",
      "CID3586_AAGACCTCAGCATGAG    Endothelial    1.506221  \n",
      "CID3586_AAGGTTCGTAGTACCT    Endothelial    5.793743  \n",
      "CID3586_ACCAGTAGTTGTGGCC    Endothelial    1.383238  \n",
      "CID3586_ACCCACTAGATGTCGG    Endothelial    1.923077  \n",
      "CID3586_ACTGATGGTCAACTGT    Endothelial   13.325541  \n"
     ]
    }
   ],
   "source": [
    "#calculate % mitochondrial DNA per sample\n",
    "mito_genes = adata.var_names.str.startswith('MT-')\n",
    "adata.obs['percent_mt'] = adata[:, mito_genes].X.sum(axis=1) / adata.X.sum(axis=1) * 100\n",
    "#print(adata.obs.head())"
   ]
  },
  {
   "cell_type": "code",
   "execution_count": 61,
   "id": "3b69f315-3aa8-4c5d-acfd-2c50b72a0d2e",
   "metadata": {
    "tags": []
   },
   "outputs": [],
   "source": [
    "#filter samples based on QC metrics\n",
    "adata = adata[(\n",
    "    (adata.obs['nFeature_RNA'] > nfeature_min) &\n",
    "    (adata.obs['nFeature_RNA'] < nfeature_max) &\n",
    "    (adata.obs['nCount_RNA'] > ncount_min) &\n",
    "    (adata.obs['percent_mt'] < percent_mt_max)\n",
    ")]"
   ]
  },
  {
   "cell_type": "code",
   "execution_count": 63,
   "id": "77b9f691-5965-4271-adcd-9074c11e5086",
   "metadata": {
    "tags": []
   },
   "outputs": [],
   "source": [
    "#set samples to analyze to specified subtype\n",
    "adata = adata[adata.obs['subtype'] == subtype]"
   ]
  },
  {
   "cell_type": "markdown",
   "id": "91dcc969-bfa8-4b4b-af12-18c6399b4342",
   "metadata": {},
   "source": [
    "__Normalization:__"
   ]
  },
  {
   "cell_type": "code",
   "execution_count": 72,
   "id": "0c4a556b-644d-4505-8546-5b5b4c9b0b8d",
   "metadata": {
    "tags": []
   },
   "outputs": [
    {
     "name": "stderr",
     "output_type": "stream",
     "text": [
      "/Users/joshuagalla/anaconda3/lib/python3.11/site-packages/scanpy/preprocessing/_normalization.py:207: UserWarning: Received a view of an AnnData. Making a copy.\n",
      "  view_to_actual(adata)\n"
     ]
    }
   ],
   "source": [
    "sc.pp.normalize_total(adata, target_sum=1e6)"
   ]
  },
  {
   "cell_type": "code",
   "execution_count": 96,
   "id": "b9297769-b20d-4f25-b498-4d92c08128c3",
   "metadata": {
    "tags": []
   },
   "outputs": [
    {
     "data": {
      "image/png": "[encoded data removed]",
      "text/plain": [
       "<Figure size 804.6x480 with 1 Axes>"
      ]
     },
     "metadata": {},
     "output_type": "display_data"
    }
   ],
   "source": [
    "sc.pl.violin(adata, ['nFeature_RNA'], stripplot = False)\n",
    "plt.show()"
   ]
  },
  {
   "cell_type": "code",
   "execution_count": 98,
   "id": "62fdcff4-a376-465a-a3d2-a899665b01e4",
   "metadata": {
    "tags": []
   },
   "outputs": [
    {
     "data": {
      "image/png": "[encoded data removed]",
      "text/plain": [
       "<Figure size 804.6x480 with 1 Axes>"
      ]
     },
     "metadata": {},
     "output_type": "display_data"
    }
   ],
   "source": [
    "sc.pl.violin(adata, ['nCount_RNA'], stripplot = False)\n",
    "plt.show()"
   ]
  },
  {
   "cell_type": "code",
   "execution_count": null,
   "id": "5ac2cc66-443d-4e1a-982f-d1b6304c7f3c",
   "metadata": {},
   "outputs": [],
   "source": []
  },
  {
   "cell_type": "code",
   "execution_count": null,
   "id": "356ac708-6608-4f39-99cc-a151c23ecd7c",
   "metadata": {},
   "outputs": [],
   "source": []
  },
  {
   "cell_type": "code",
   "execution_count": null,
   "id": "398ae977-83f9-4336-ac2c-3bebb2b9efc2",
   "metadata": {},
   "outputs": [],
   "source": []
  },
  {
   "cell_type": "code",
   "execution_count": null,
   "id": "fd2b8d99-0f61-4034-95b1-b557608006d0",
   "metadata": {},
   "outputs": [],
   "source": []
  },
  {
   "cell_type": "code",
   "execution_count": null,
   "id": "b212775b-e21b-412e-b30c-32e21406f080",
   "metadata": {},
   "outputs": [],
   "source": []
  },
  {
   "cell_type": "code",
   "execution_count": null,
   "id": "0ba9a416-d96e-4895-9426-2df3f962fabd",
   "metadata": {},
   "outputs": [],
   "source": []
  }
 ],
 "metadata": {
  "kernelspec": {
   "display_name": "Python 3 (ipykernel)",
   "language": "python",
   "name": "python3"
  },
  "language_info": {
   "codemirror_mode": {
    "name": "ipython",
    "version": 3
   },
   "file_extension": ".py",
   "mimetype": "text/x-python",
   "name": "python",
   "nbconvert_exporter": "python",
   "pygments_lexer": "ipython3",
   "version": "3.11.9"
  }
 },
 "nbformat": 4,
 "nbformat_minor": 5
}
